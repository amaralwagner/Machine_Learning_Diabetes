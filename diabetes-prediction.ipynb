{
 "cells": [
  {
   "cell_type": "code",
   "execution_count": 1,
   "id": "67415ba4",
   "metadata": {
    "_cell_guid": "b1076dfc-b9ad-4769-8c92-a6c4dae69d19",
    "_uuid": "8f2839f25d086af736a60e9eeb907d3b93b6e0e5",
    "execution": {
     "iopub.execute_input": "2024-08-30T20:18:59.357408Z",
     "iopub.status.busy": "2024-08-30T20:18:59.356851Z",
     "iopub.status.idle": "2024-08-30T20:18:59.828909Z",
     "shell.execute_reply": "2024-08-30T20:18:59.827684Z"
    },
    "papermill": {
     "duration": 0.485335,
     "end_time": "2024-08-30T20:18:59.831909",
     "exception": false,
     "start_time": "2024-08-30T20:18:59.346574",
     "status": "completed"
    },
    "tags": []
   },
   "outputs": [
    {
     "name": "stdout",
     "output_type": "stream",
     "text": [
      "/kaggle/input/100000-diabetes-clinical-dataset/diabetes_dataset.csv\n"
     ]
    }
   ],
   "source": [
    "import numpy as np # linear algebra\n",
    "import pandas as pd # data processing, CSV file I/O (e.g. pd.read_csv)\n",
    "\n",
    "import os\n",
    "for dirname, _, filenames in os.walk('/kaggle/input'):\n",
    "    for filename in filenames:\n",
    "        print(os.path.join(dirname, filename))"
   ]
  },
  {
   "cell_type": "code",
   "execution_count": 2,
   "id": "ec22549b",
   "metadata": {
    "execution": {
     "iopub.execute_input": "2024-08-30T20:18:59.849575Z",
     "iopub.status.busy": "2024-08-30T20:18:59.849051Z",
     "iopub.status.idle": "2024-08-30T20:19:00.198309Z",
     "shell.execute_reply": "2024-08-30T20:19:00.197167Z"
    },
    "papermill": {
     "duration": 0.361373,
     "end_time": "2024-08-30T20:19:00.201317",
     "exception": false,
     "start_time": "2024-08-30T20:18:59.839944",
     "status": "completed"
    },
    "tags": []
   },
   "outputs": [
    {
     "data": {
      "text/html": [
       "<div>\n",
       "<style scoped>\n",
       "    .dataframe tbody tr th:only-of-type {\n",
       "        vertical-align: middle;\n",
       "    }\n",
       "\n",
       "    .dataframe tbody tr th {\n",
       "        vertical-align: top;\n",
       "    }\n",
       "\n",
       "    .dataframe thead th {\n",
       "        text-align: right;\n",
       "    }\n",
       "</style>\n",
       "<table border=\"1\" class=\"dataframe\">\n",
       "  <thead>\n",
       "    <tr style=\"text-align: right;\">\n",
       "      <th></th>\n",
       "      <th>year</th>\n",
       "      <th>gender</th>\n",
       "      <th>age</th>\n",
       "      <th>location</th>\n",
       "      <th>race:AfricanAmerican</th>\n",
       "      <th>race:Asian</th>\n",
       "      <th>race:Caucasian</th>\n",
       "      <th>race:Hispanic</th>\n",
       "      <th>race:Other</th>\n",
       "      <th>hypertension</th>\n",
       "      <th>heart_disease</th>\n",
       "      <th>smoking_history</th>\n",
       "      <th>bmi</th>\n",
       "      <th>hbA1c_level</th>\n",
       "      <th>blood_glucose_level</th>\n",
       "      <th>diabetes</th>\n",
       "    </tr>\n",
       "  </thead>\n",
       "  <tbody>\n",
       "    <tr>\n",
       "      <th>0</th>\n",
       "      <td>2020</td>\n",
       "      <td>Female</td>\n",
       "      <td>32.0</td>\n",
       "      <td>Alabama</td>\n",
       "      <td>0</td>\n",
       "      <td>0</td>\n",
       "      <td>0</td>\n",
       "      <td>0</td>\n",
       "      <td>1</td>\n",
       "      <td>0</td>\n",
       "      <td>0</td>\n",
       "      <td>never</td>\n",
       "      <td>27.32</td>\n",
       "      <td>5.0</td>\n",
       "      <td>100</td>\n",
       "      <td>0</td>\n",
       "    </tr>\n",
       "    <tr>\n",
       "      <th>1</th>\n",
       "      <td>2015</td>\n",
       "      <td>Female</td>\n",
       "      <td>29.0</td>\n",
       "      <td>Alabama</td>\n",
       "      <td>0</td>\n",
       "      <td>1</td>\n",
       "      <td>0</td>\n",
       "      <td>0</td>\n",
       "      <td>0</td>\n",
       "      <td>0</td>\n",
       "      <td>0</td>\n",
       "      <td>never</td>\n",
       "      <td>19.95</td>\n",
       "      <td>5.0</td>\n",
       "      <td>90</td>\n",
       "      <td>0</td>\n",
       "    </tr>\n",
       "    <tr>\n",
       "      <th>2</th>\n",
       "      <td>2015</td>\n",
       "      <td>Male</td>\n",
       "      <td>18.0</td>\n",
       "      <td>Alabama</td>\n",
       "      <td>0</td>\n",
       "      <td>0</td>\n",
       "      <td>0</td>\n",
       "      <td>0</td>\n",
       "      <td>1</td>\n",
       "      <td>0</td>\n",
       "      <td>0</td>\n",
       "      <td>never</td>\n",
       "      <td>23.76</td>\n",
       "      <td>4.8</td>\n",
       "      <td>160</td>\n",
       "      <td>0</td>\n",
       "    </tr>\n",
       "    <tr>\n",
       "      <th>3</th>\n",
       "      <td>2015</td>\n",
       "      <td>Male</td>\n",
       "      <td>41.0</td>\n",
       "      <td>Alabama</td>\n",
       "      <td>0</td>\n",
       "      <td>0</td>\n",
       "      <td>1</td>\n",
       "      <td>0</td>\n",
       "      <td>0</td>\n",
       "      <td>0</td>\n",
       "      <td>0</td>\n",
       "      <td>never</td>\n",
       "      <td>27.32</td>\n",
       "      <td>4.0</td>\n",
       "      <td>159</td>\n",
       "      <td>0</td>\n",
       "    </tr>\n",
       "    <tr>\n",
       "      <th>4</th>\n",
       "      <td>2016</td>\n",
       "      <td>Female</td>\n",
       "      <td>52.0</td>\n",
       "      <td>Alabama</td>\n",
       "      <td>1</td>\n",
       "      <td>0</td>\n",
       "      <td>0</td>\n",
       "      <td>0</td>\n",
       "      <td>0</td>\n",
       "      <td>0</td>\n",
       "      <td>0</td>\n",
       "      <td>never</td>\n",
       "      <td>23.75</td>\n",
       "      <td>6.5</td>\n",
       "      <td>90</td>\n",
       "      <td>0</td>\n",
       "    </tr>\n",
       "  </tbody>\n",
       "</table>\n",
       "</div>"
      ],
      "text/plain": [
       "   year  gender   age location  race:AfricanAmerican  race:Asian  \\\n",
       "0  2020  Female  32.0  Alabama                     0           0   \n",
       "1  2015  Female  29.0  Alabama                     0           1   \n",
       "2  2015    Male  18.0  Alabama                     0           0   \n",
       "3  2015    Male  41.0  Alabama                     0           0   \n",
       "4  2016  Female  52.0  Alabama                     1           0   \n",
       "\n",
       "   race:Caucasian  race:Hispanic  race:Other  hypertension  heart_disease  \\\n",
       "0               0              0           1             0              0   \n",
       "1               0              0           0             0              0   \n",
       "2               0              0           1             0              0   \n",
       "3               1              0           0             0              0   \n",
       "4               0              0           0             0              0   \n",
       "\n",
       "  smoking_history    bmi  hbA1c_level  blood_glucose_level  diabetes  \n",
       "0           never  27.32          5.0                  100         0  \n",
       "1           never  19.95          5.0                   90         0  \n",
       "2           never  23.76          4.8                  160         0  \n",
       "3           never  27.32          4.0                  159         0  \n",
       "4           never  23.75          6.5                   90         0  "
      ]
     },
     "execution_count": 2,
     "metadata": {},
     "output_type": "execute_result"
    }
   ],
   "source": [
    "df = pd.read_csv('/kaggle/input/100000-diabetes-clinical-dataset/diabetes_dataset.csv')\n",
    "df.head()"
   ]
  },
  {
   "cell_type": "code",
   "execution_count": 3,
   "id": "d5c2f308",
   "metadata": {
    "execution": {
     "iopub.execute_input": "2024-08-30T20:19:00.219908Z",
     "iopub.status.busy": "2024-08-30T20:19:00.219448Z",
     "iopub.status.idle": "2024-08-30T20:19:00.282080Z",
     "shell.execute_reply": "2024-08-30T20:19:00.280398Z"
    },
    "papermill": {
     "duration": 0.075295,
     "end_time": "2024-08-30T20:19:00.284819",
     "exception": false,
     "start_time": "2024-08-30T20:19:00.209524",
     "status": "completed"
    },
    "tags": []
   },
   "outputs": [
    {
     "name": "stdout",
     "output_type": "stream",
     "text": [
      "<class 'pandas.core.frame.DataFrame'>\n",
      "RangeIndex: 100000 entries, 0 to 99999\n",
      "Data columns (total 16 columns):\n",
      " #   Column                Non-Null Count   Dtype  \n",
      "---  ------                --------------   -----  \n",
      " 0   year                  100000 non-null  int64  \n",
      " 1   gender                100000 non-null  object \n",
      " 2   age                   100000 non-null  float64\n",
      " 3   location              100000 non-null  object \n",
      " 4   race:AfricanAmerican  100000 non-null  int64  \n",
      " 5   race:Asian            100000 non-null  int64  \n",
      " 6   race:Caucasian        100000 non-null  int64  \n",
      " 7   race:Hispanic         100000 non-null  int64  \n",
      " 8   race:Other            100000 non-null  int64  \n",
      " 9   hypertension          100000 non-null  int64  \n",
      " 10  heart_disease         100000 non-null  int64  \n",
      " 11  smoking_history       100000 non-null  object \n",
      " 12  bmi                   100000 non-null  float64\n",
      " 13  hbA1c_level           100000 non-null  float64\n",
      " 14  blood_glucose_level   100000 non-null  int64  \n",
      " 15  diabetes              100000 non-null  int64  \n",
      "dtypes: float64(3), int64(10), object(3)\n",
      "memory usage: 12.2+ MB\n"
     ]
    }
   ],
   "source": [
    "df.info()"
   ]
  },
  {
   "cell_type": "code",
   "execution_count": 4,
   "id": "5acae891",
   "metadata": {
    "execution": {
     "iopub.execute_input": "2024-08-30T20:19:00.303829Z",
     "iopub.status.busy": "2024-08-30T20:19:00.303347Z",
     "iopub.status.idle": "2024-08-30T20:19:00.353251Z",
     "shell.execute_reply": "2024-08-30T20:19:00.352014Z"
    },
    "papermill": {
     "duration": 0.062386,
     "end_time": "2024-08-30T20:19:00.355937",
     "exception": false,
     "start_time": "2024-08-30T20:19:00.293551",
     "status": "completed"
    },
    "tags": []
   },
   "outputs": [
    {
     "data": {
      "text/plain": [
       "race:AfricanAmerican       2\n",
       "race:Asian                 2\n",
       "race:Caucasian             2\n",
       "race:Hispanic              2\n",
       "race:Other                 2\n",
       "hypertension               2\n",
       "heart_disease              2\n",
       "diabetes                   2\n",
       "gender                     3\n",
       "smoking_history            6\n",
       "year                       7\n",
       "hbA1c_level               18\n",
       "blood_glucose_level       18\n",
       "location                  55\n",
       "age                      102\n",
       "bmi                     4247\n",
       "dtype: int64"
      ]
     },
     "execution_count": 4,
     "metadata": {},
     "output_type": "execute_result"
    }
   ],
   "source": [
    "df.nunique().sort_values()"
   ]
  },
  {
   "cell_type": "code",
   "execution_count": 5,
   "id": "5a75b8cd",
   "metadata": {
    "execution": {
     "iopub.execute_input": "2024-08-30T20:19:00.375563Z",
     "iopub.status.busy": "2024-08-30T20:19:00.374952Z",
     "iopub.status.idle": "2024-08-30T20:19:00.403097Z",
     "shell.execute_reply": "2024-08-30T20:19:00.401845Z"
    },
    "papermill": {
     "duration": 0.041229,
     "end_time": "2024-08-30T20:19:00.405782",
     "exception": false,
     "start_time": "2024-08-30T20:19:00.364553",
     "status": "completed"
    },
    "tags": []
   },
   "outputs": [
    {
     "data": {
      "text/plain": [
       "smoking_history\n",
       "No Info        35816\n",
       "never          35095\n",
       "former          9352\n",
       "current         9286\n",
       "not current     6447\n",
       "ever            4004\n",
       "Name: count, dtype: int64"
      ]
     },
     "execution_count": 5,
     "metadata": {},
     "output_type": "execute_result"
    }
   ],
   "source": [
    "df.smoking_history.value_counts()"
   ]
  },
  {
   "cell_type": "code",
   "execution_count": 6,
   "id": "804f8737",
   "metadata": {
    "execution": {
     "iopub.execute_input": "2024-08-30T20:19:00.425061Z",
     "iopub.status.busy": "2024-08-30T20:19:00.424574Z",
     "iopub.status.idle": "2024-08-30T20:19:00.437545Z",
     "shell.execute_reply": "2024-08-30T20:19:00.436089Z"
    },
    "papermill": {
     "duration": 0.026039,
     "end_time": "2024-08-30T20:19:00.440494",
     "exception": false,
     "start_time": "2024-08-30T20:19:00.414455",
     "status": "completed"
    },
    "tags": []
   },
   "outputs": [],
   "source": [
    "df = df.drop(columns='location')"
   ]
  },
  {
   "cell_type": "code",
   "execution_count": 7,
   "id": "6fb92d36",
   "metadata": {
    "execution": {
     "iopub.execute_input": "2024-08-30T20:19:00.460238Z",
     "iopub.status.busy": "2024-08-30T20:19:00.459777Z",
     "iopub.status.idle": "2024-08-30T20:19:00.470072Z",
     "shell.execute_reply": "2024-08-30T20:19:00.468868Z"
    },
    "papermill": {
     "duration": 0.023664,
     "end_time": "2024-08-30T20:19:00.472836",
     "exception": false,
     "start_time": "2024-08-30T20:19:00.449172",
     "status": "completed"
    },
    "tags": []
   },
   "outputs": [],
   "source": [
    "numerical_cols = df.select_dtypes(include='number').columns \n",
    "categorical_cols = df.select_dtypes(exclude='number').columns"
   ]
  },
  {
   "cell_type": "code",
   "execution_count": 8,
   "id": "c8b3dada",
   "metadata": {
    "execution": {
     "iopub.execute_input": "2024-08-30T20:19:00.492049Z",
     "iopub.status.busy": "2024-08-30T20:19:00.491564Z",
     "iopub.status.idle": "2024-08-30T20:19:00.499885Z",
     "shell.execute_reply": "2024-08-30T20:19:00.498480Z"
    },
    "papermill": {
     "duration": 0.020924,
     "end_time": "2024-08-30T20:19:00.502567",
     "exception": false,
     "start_time": "2024-08-30T20:19:00.481643",
     "status": "completed"
    },
    "tags": []
   },
   "outputs": [
    {
     "data": {
      "text/plain": [
       "Index(['year', 'age', 'race:AfricanAmerican', 'race:Asian', 'race:Caucasian',\n",
       "       'race:Hispanic', 'race:Other', 'hypertension', 'heart_disease', 'bmi',\n",
       "       'hbA1c_level', 'blood_glucose_level', 'diabetes'],\n",
       "      dtype='object')"
      ]
     },
     "execution_count": 8,
     "metadata": {},
     "output_type": "execute_result"
    }
   ],
   "source": [
    "numerical_cols"
   ]
  },
  {
   "cell_type": "code",
   "execution_count": 9,
   "id": "cd7e446d",
   "metadata": {
    "execution": {
     "iopub.execute_input": "2024-08-30T20:19:00.522067Z",
     "iopub.status.busy": "2024-08-30T20:19:00.521630Z",
     "iopub.status.idle": "2024-08-30T20:19:00.530043Z",
     "shell.execute_reply": "2024-08-30T20:19:00.528545Z"
    },
    "papermill": {
     "duration": 0.021256,
     "end_time": "2024-08-30T20:19:00.532719",
     "exception": false,
     "start_time": "2024-08-30T20:19:00.511463",
     "status": "completed"
    },
    "tags": []
   },
   "outputs": [
    {
     "data": {
      "text/plain": [
       "Index(['gender', 'smoking_history'], dtype='object')"
      ]
     },
     "execution_count": 9,
     "metadata": {},
     "output_type": "execute_result"
    }
   ],
   "source": [
    "categorical_cols"
   ]
  },
  {
   "cell_type": "code",
   "execution_count": 10,
   "id": "c72c59db",
   "metadata": {
    "execution": {
     "iopub.execute_input": "2024-08-30T20:19:00.552187Z",
     "iopub.status.busy": "2024-08-30T20:19:00.551703Z",
     "iopub.status.idle": "2024-08-30T20:19:00.615236Z",
     "shell.execute_reply": "2024-08-30T20:19:00.613936Z"
    },
    "papermill": {
     "duration": 0.0764,
     "end_time": "2024-08-30T20:19:00.617984",
     "exception": false,
     "start_time": "2024-08-30T20:19:00.541584",
     "status": "completed"
    },
    "tags": []
   },
   "outputs": [
    {
     "data": {
      "text/html": [
       "<div>\n",
       "<style scoped>\n",
       "    .dataframe tbody tr th:only-of-type {\n",
       "        vertical-align: middle;\n",
       "    }\n",
       "\n",
       "    .dataframe tbody tr th {\n",
       "        vertical-align: top;\n",
       "    }\n",
       "\n",
       "    .dataframe thead th {\n",
       "        text-align: right;\n",
       "    }\n",
       "</style>\n",
       "<table border=\"1\" class=\"dataframe\">\n",
       "  <thead>\n",
       "    <tr style=\"text-align: right;\">\n",
       "      <th></th>\n",
       "      <th>year</th>\n",
       "      <th>age</th>\n",
       "      <th>race:AfricanAmerican</th>\n",
       "      <th>race:Asian</th>\n",
       "      <th>race:Caucasian</th>\n",
       "      <th>race:Hispanic</th>\n",
       "      <th>race:Other</th>\n",
       "      <th>hypertension</th>\n",
       "      <th>heart_disease</th>\n",
       "      <th>bmi</th>\n",
       "      <th>hbA1c_level</th>\n",
       "      <th>blood_glucose_level</th>\n",
       "      <th>diabetes</th>\n",
       "      <th>gender_Male</th>\n",
       "      <th>gender_Other</th>\n",
       "      <th>smoking_history_current</th>\n",
       "      <th>smoking_history_ever</th>\n",
       "      <th>smoking_history_former</th>\n",
       "      <th>smoking_history_never</th>\n",
       "      <th>smoking_history_not current</th>\n",
       "    </tr>\n",
       "  </thead>\n",
       "  <tbody>\n",
       "    <tr>\n",
       "      <th>0</th>\n",
       "      <td>2020</td>\n",
       "      <td>32.0</td>\n",
       "      <td>0</td>\n",
       "      <td>0</td>\n",
       "      <td>0</td>\n",
       "      <td>0</td>\n",
       "      <td>1</td>\n",
       "      <td>0</td>\n",
       "      <td>0</td>\n",
       "      <td>27.32</td>\n",
       "      <td>5.0</td>\n",
       "      <td>100</td>\n",
       "      <td>0</td>\n",
       "      <td>False</td>\n",
       "      <td>False</td>\n",
       "      <td>False</td>\n",
       "      <td>False</td>\n",
       "      <td>False</td>\n",
       "      <td>True</td>\n",
       "      <td>False</td>\n",
       "    </tr>\n",
       "    <tr>\n",
       "      <th>1</th>\n",
       "      <td>2015</td>\n",
       "      <td>29.0</td>\n",
       "      <td>0</td>\n",
       "      <td>1</td>\n",
       "      <td>0</td>\n",
       "      <td>0</td>\n",
       "      <td>0</td>\n",
       "      <td>0</td>\n",
       "      <td>0</td>\n",
       "      <td>19.95</td>\n",
       "      <td>5.0</td>\n",
       "      <td>90</td>\n",
       "      <td>0</td>\n",
       "      <td>False</td>\n",
       "      <td>False</td>\n",
       "      <td>False</td>\n",
       "      <td>False</td>\n",
       "      <td>False</td>\n",
       "      <td>True</td>\n",
       "      <td>False</td>\n",
       "    </tr>\n",
       "    <tr>\n",
       "      <th>2</th>\n",
       "      <td>2015</td>\n",
       "      <td>18.0</td>\n",
       "      <td>0</td>\n",
       "      <td>0</td>\n",
       "      <td>0</td>\n",
       "      <td>0</td>\n",
       "      <td>1</td>\n",
       "      <td>0</td>\n",
       "      <td>0</td>\n",
       "      <td>23.76</td>\n",
       "      <td>4.8</td>\n",
       "      <td>160</td>\n",
       "      <td>0</td>\n",
       "      <td>True</td>\n",
       "      <td>False</td>\n",
       "      <td>False</td>\n",
       "      <td>False</td>\n",
       "      <td>False</td>\n",
       "      <td>True</td>\n",
       "      <td>False</td>\n",
       "    </tr>\n",
       "    <tr>\n",
       "      <th>3</th>\n",
       "      <td>2015</td>\n",
       "      <td>41.0</td>\n",
       "      <td>0</td>\n",
       "      <td>0</td>\n",
       "      <td>1</td>\n",
       "      <td>0</td>\n",
       "      <td>0</td>\n",
       "      <td>0</td>\n",
       "      <td>0</td>\n",
       "      <td>27.32</td>\n",
       "      <td>4.0</td>\n",
       "      <td>159</td>\n",
       "      <td>0</td>\n",
       "      <td>True</td>\n",
       "      <td>False</td>\n",
       "      <td>False</td>\n",
       "      <td>False</td>\n",
       "      <td>False</td>\n",
       "      <td>True</td>\n",
       "      <td>False</td>\n",
       "    </tr>\n",
       "    <tr>\n",
       "      <th>4</th>\n",
       "      <td>2016</td>\n",
       "      <td>52.0</td>\n",
       "      <td>1</td>\n",
       "      <td>0</td>\n",
       "      <td>0</td>\n",
       "      <td>0</td>\n",
       "      <td>0</td>\n",
       "      <td>0</td>\n",
       "      <td>0</td>\n",
       "      <td>23.75</td>\n",
       "      <td>6.5</td>\n",
       "      <td>90</td>\n",
       "      <td>0</td>\n",
       "      <td>False</td>\n",
       "      <td>False</td>\n",
       "      <td>False</td>\n",
       "      <td>False</td>\n",
       "      <td>False</td>\n",
       "      <td>True</td>\n",
       "      <td>False</td>\n",
       "    </tr>\n",
       "  </tbody>\n",
       "</table>\n",
       "</div>"
      ],
      "text/plain": [
       "   year   age  race:AfricanAmerican  race:Asian  race:Caucasian  \\\n",
       "0  2020  32.0                     0           0               0   \n",
       "1  2015  29.0                     0           1               0   \n",
       "2  2015  18.0                     0           0               0   \n",
       "3  2015  41.0                     0           0               1   \n",
       "4  2016  52.0                     1           0               0   \n",
       "\n",
       "   race:Hispanic  race:Other  hypertension  heart_disease    bmi  hbA1c_level  \\\n",
       "0              0           1             0              0  27.32          5.0   \n",
       "1              0           0             0              0  19.95          5.0   \n",
       "2              0           1             0              0  23.76          4.8   \n",
       "3              0           0             0              0  27.32          4.0   \n",
       "4              0           0             0              0  23.75          6.5   \n",
       "\n",
       "   blood_glucose_level  diabetes  gender_Male  gender_Other  \\\n",
       "0                  100         0        False         False   \n",
       "1                   90         0        False         False   \n",
       "2                  160         0         True         False   \n",
       "3                  159         0         True         False   \n",
       "4                   90         0        False         False   \n",
       "\n",
       "   smoking_history_current  smoking_history_ever  smoking_history_former  \\\n",
       "0                    False                 False                   False   \n",
       "1                    False                 False                   False   \n",
       "2                    False                 False                   False   \n",
       "3                    False                 False                   False   \n",
       "4                    False                 False                   False   \n",
       "\n",
       "   smoking_history_never  smoking_history_not current  \n",
       "0                   True                        False  \n",
       "1                   True                        False  \n",
       "2                   True                        False  \n",
       "3                   True                        False  \n",
       "4                   True                        False  "
      ]
     },
     "execution_count": 10,
     "metadata": {},
     "output_type": "execute_result"
    }
   ],
   "source": [
    "df_dummies = pd.get_dummies(df, columns=categorical_cols, drop_first = True)\n",
    "df_dummies.head()\n"
   ]
  },
  {
   "cell_type": "code",
   "execution_count": 11,
   "id": "507b16b8",
   "metadata": {
    "execution": {
     "iopub.execute_input": "2024-08-30T20:19:00.639540Z",
     "iopub.status.busy": "2024-08-30T20:19:00.639104Z",
     "iopub.status.idle": "2024-08-30T20:19:00.647888Z",
     "shell.execute_reply": "2024-08-30T20:19:00.646624Z"
    },
    "papermill": {
     "duration": 0.022767,
     "end_time": "2024-08-30T20:19:00.650804",
     "exception": false,
     "start_time": "2024-08-30T20:19:00.628037",
     "status": "completed"
    },
    "tags": []
   },
   "outputs": [],
   "source": [
    "# Features\n",
    "X = df_dummies.drop('diabetes', axis = 1)\n",
    "\n",
    "# Target (alvo)\n",
    "y = df_dummies['diabetes']\n"
   ]
  },
  {
   "cell_type": "code",
   "execution_count": 12,
   "id": "e02eb0f0",
   "metadata": {
    "execution": {
     "iopub.execute_input": "2024-08-30T20:19:00.672823Z",
     "iopub.status.busy": "2024-08-30T20:19:00.672276Z",
     "iopub.status.idle": "2024-08-30T20:19:02.175927Z",
     "shell.execute_reply": "2024-08-30T20:19:02.174523Z"
    },
    "papermill": {
     "duration": 1.517777,
     "end_time": "2024-08-30T20:19:02.178958",
     "exception": false,
     "start_time": "2024-08-30T20:19:00.661181",
     "status": "completed"
    },
    "tags": []
   },
   "outputs": [],
   "source": [
    "from sklearn.model_selection import train_test_split\n",
    "\n",
    "X_train, X_test, y_train, y_test = train_test_split(X, y, test_size = 0.2, random_state = 42)"
   ]
  },
  {
   "cell_type": "code",
   "execution_count": 13,
   "id": "a28c6131",
   "metadata": {
    "execution": {
     "iopub.execute_input": "2024-08-30T20:19:02.200616Z",
     "iopub.status.busy": "2024-08-30T20:19:02.200014Z",
     "iopub.status.idle": "2024-08-30T20:19:02.207996Z",
     "shell.execute_reply": "2024-08-30T20:19:02.206686Z"
    },
    "papermill": {
     "duration": 0.021632,
     "end_time": "2024-08-30T20:19:02.210655",
     "exception": false,
     "start_time": "2024-08-30T20:19:02.189023",
     "status": "completed"
    },
    "tags": []
   },
   "outputs": [
    {
     "data": {
      "text/plain": [
       "((80000, 19), (80000,))"
      ]
     },
     "execution_count": 13,
     "metadata": {},
     "output_type": "execute_result"
    }
   ],
   "source": [
    "X_train.shape, y_train.shape"
   ]
  },
  {
   "cell_type": "code",
   "execution_count": 14,
   "id": "6ffd0838",
   "metadata": {
    "execution": {
     "iopub.execute_input": "2024-08-30T20:19:02.231406Z",
     "iopub.status.busy": "2024-08-30T20:19:02.230969Z",
     "iopub.status.idle": "2024-08-30T20:19:02.238559Z",
     "shell.execute_reply": "2024-08-30T20:19:02.237387Z"
    },
    "papermill": {
     "duration": 0.021057,
     "end_time": "2024-08-30T20:19:02.241146",
     "exception": false,
     "start_time": "2024-08-30T20:19:02.220089",
     "status": "completed"
    },
    "tags": []
   },
   "outputs": [
    {
     "data": {
      "text/plain": [
       "((20000, 19), (20000,))"
      ]
     },
     "execution_count": 14,
     "metadata": {},
     "output_type": "execute_result"
    }
   ],
   "source": [
    "X_test.shape, y_test.shape"
   ]
  },
  {
   "cell_type": "code",
   "execution_count": 15,
   "id": "c4422962",
   "metadata": {
    "execution": {
     "iopub.execute_input": "2024-08-30T20:19:02.262564Z",
     "iopub.status.busy": "2024-08-30T20:19:02.262133Z",
     "iopub.status.idle": "2024-08-30T20:19:02.536771Z",
     "shell.execute_reply": "2024-08-30T20:19:02.535659Z"
    },
    "papermill": {
     "duration": 0.288757,
     "end_time": "2024-08-30T20:19:02.539620",
     "exception": false,
     "start_time": "2024-08-30T20:19:02.250863",
     "status": "completed"
    },
    "tags": []
   },
   "outputs": [],
   "source": [
    "import xgboost as xgb"
   ]
  },
  {
   "cell_type": "code",
   "execution_count": 16,
   "id": "0fe89eb7",
   "metadata": {
    "execution": {
     "iopub.execute_input": "2024-08-30T20:19:02.561746Z",
     "iopub.status.busy": "2024-08-30T20:19:02.561266Z",
     "iopub.status.idle": "2024-08-30T20:19:03.483518Z",
     "shell.execute_reply": "2024-08-30T20:19:03.482436Z"
    },
    "papermill": {
     "duration": 0.937163,
     "end_time": "2024-08-30T20:19:03.486707",
     "exception": false,
     "start_time": "2024-08-30T20:19:02.549544",
     "status": "completed"
    },
    "tags": []
   },
   "outputs": [
    {
     "data": {
      "text/html": [
       "<style>#sk-container-id-1 {color: black;background-color: white;}#sk-container-id-1 pre{padding: 0;}#sk-container-id-1 div.sk-toggleable {background-color: white;}#sk-container-id-1 label.sk-toggleable__label {cursor: pointer;display: block;width: 100%;margin-bottom: 0;padding: 0.3em;box-sizing: border-box;text-align: center;}#sk-container-id-1 label.sk-toggleable__label-arrow:before {content: \"▸\";float: left;margin-right: 0.25em;color: #696969;}#sk-container-id-1 label.sk-toggleable__label-arrow:hover:before {color: black;}#sk-container-id-1 div.sk-estimator:hover label.sk-toggleable__label-arrow:before {color: black;}#sk-container-id-1 div.sk-toggleable__content {max-height: 0;max-width: 0;overflow: hidden;text-align: left;background-color: #f0f8ff;}#sk-container-id-1 div.sk-toggleable__content pre {margin: 0.2em;color: black;border-radius: 0.25em;background-color: #f0f8ff;}#sk-container-id-1 input.sk-toggleable__control:checked~div.sk-toggleable__content {max-height: 200px;max-width: 100%;overflow: auto;}#sk-container-id-1 input.sk-toggleable__control:checked~label.sk-toggleable__label-arrow:before {content: \"▾\";}#sk-container-id-1 div.sk-estimator input.sk-toggleable__control:checked~label.sk-toggleable__label {background-color: #d4ebff;}#sk-container-id-1 div.sk-label input.sk-toggleable__control:checked~label.sk-toggleable__label {background-color: #d4ebff;}#sk-container-id-1 input.sk-hidden--visually {border: 0;clip: rect(1px 1px 1px 1px);clip: rect(1px, 1px, 1px, 1px);height: 1px;margin: -1px;overflow: hidden;padding: 0;position: absolute;width: 1px;}#sk-container-id-1 div.sk-estimator {font-family: monospace;background-color: #f0f8ff;border: 1px dotted black;border-radius: 0.25em;box-sizing: border-box;margin-bottom: 0.5em;}#sk-container-id-1 div.sk-estimator:hover {background-color: #d4ebff;}#sk-container-id-1 div.sk-parallel-item::after {content: \"\";width: 100%;border-bottom: 1px solid gray;flex-grow: 1;}#sk-container-id-1 div.sk-label:hover label.sk-toggleable__label {background-color: #d4ebff;}#sk-container-id-1 div.sk-serial::before {content: \"\";position: absolute;border-left: 1px solid gray;box-sizing: border-box;top: 0;bottom: 0;left: 50%;z-index: 0;}#sk-container-id-1 div.sk-serial {display: flex;flex-direction: column;align-items: center;background-color: white;padding-right: 0.2em;padding-left: 0.2em;position: relative;}#sk-container-id-1 div.sk-item {position: relative;z-index: 1;}#sk-container-id-1 div.sk-parallel {display: flex;align-items: stretch;justify-content: center;background-color: white;position: relative;}#sk-container-id-1 div.sk-item::before, #sk-container-id-1 div.sk-parallel-item::before {content: \"\";position: absolute;border-left: 1px solid gray;box-sizing: border-box;top: 0;bottom: 0;left: 50%;z-index: -1;}#sk-container-id-1 div.sk-parallel-item {display: flex;flex-direction: column;z-index: 1;position: relative;background-color: white;}#sk-container-id-1 div.sk-parallel-item:first-child::after {align-self: flex-end;width: 50%;}#sk-container-id-1 div.sk-parallel-item:last-child::after {align-self: flex-start;width: 50%;}#sk-container-id-1 div.sk-parallel-item:only-child::after {width: 0;}#sk-container-id-1 div.sk-dashed-wrapped {border: 1px dashed gray;margin: 0 0.4em 0.5em 0.4em;box-sizing: border-box;padding-bottom: 0.4em;background-color: white;}#sk-container-id-1 div.sk-label label {font-family: monospace;font-weight: bold;display: inline-block;line-height: 1.2em;}#sk-container-id-1 div.sk-label-container {text-align: center;}#sk-container-id-1 div.sk-container {/* jupyter's `normalize.less` sets `[hidden] { display: none; }` but bootstrap.min.css set `[hidden] { display: none !important; }` so we also need the `!important` here to be able to override the default hidden behavior on the sphinx rendered scikit-learn.org. See: https://github.com/scikit-learn/scikit-learn/issues/21755 */display: inline-block !important;position: relative;}#sk-container-id-1 div.sk-text-repr-fallback {display: none;}</style><div id=\"sk-container-id-1\" class=\"sk-top-container\"><div class=\"sk-text-repr-fallback\"><pre>XGBClassifier(base_score=None, booster=None, callbacks=None,\n",
       "              colsample_bylevel=None, colsample_bynode=None,\n",
       "              colsample_bytree=None, device=None, early_stopping_rounds=None,\n",
       "              enable_categorical=False, eval_metric=None, feature_types=None,\n",
       "              gamma=None, grow_policy=None, importance_type=None,\n",
       "              interaction_constraints=None, learning_rate=None, max_bin=None,\n",
       "              max_cat_threshold=None, max_cat_to_onehot=None,\n",
       "              max_delta_step=None, max_depth=None, max_leaves=None,\n",
       "              min_child_weight=None, missing=nan, monotone_constraints=None,\n",
       "              multi_strategy=None, n_estimators=None, n_jobs=None,\n",
       "              num_parallel_tree=None, random_state=None, ...)</pre><b>In a Jupyter environment, please rerun this cell to show the HTML representation or trust the notebook. <br />On GitHub, the HTML representation is unable to render, please try loading this page with nbviewer.org.</b></div><div class=\"sk-container\" hidden><div class=\"sk-item\"><div class=\"sk-estimator sk-toggleable\"><input class=\"sk-toggleable__control sk-hidden--visually\" id=\"sk-estimator-id-1\" type=\"checkbox\" checked><label for=\"sk-estimator-id-1\" class=\"sk-toggleable__label sk-toggleable__label-arrow\">XGBClassifier</label><div class=\"sk-toggleable__content\"><pre>XGBClassifier(base_score=None, booster=None, callbacks=None,\n",
       "              colsample_bylevel=None, colsample_bynode=None,\n",
       "              colsample_bytree=None, device=None, early_stopping_rounds=None,\n",
       "              enable_categorical=False, eval_metric=None, feature_types=None,\n",
       "              gamma=None, grow_policy=None, importance_type=None,\n",
       "              interaction_constraints=None, learning_rate=None, max_bin=None,\n",
       "              max_cat_threshold=None, max_cat_to_onehot=None,\n",
       "              max_delta_step=None, max_depth=None, max_leaves=None,\n",
       "              min_child_weight=None, missing=nan, monotone_constraints=None,\n",
       "              multi_strategy=None, n_estimators=None, n_jobs=None,\n",
       "              num_parallel_tree=None, random_state=None, ...)</pre></div></div></div></div></div>"
      ],
      "text/plain": [
       "XGBClassifier(base_score=None, booster=None, callbacks=None,\n",
       "              colsample_bylevel=None, colsample_bynode=None,\n",
       "              colsample_bytree=None, device=None, early_stopping_rounds=None,\n",
       "              enable_categorical=False, eval_metric=None, feature_types=None,\n",
       "              gamma=None, grow_policy=None, importance_type=None,\n",
       "              interaction_constraints=None, learning_rate=None, max_bin=None,\n",
       "              max_cat_threshold=None, max_cat_to_onehot=None,\n",
       "              max_delta_step=None, max_depth=None, max_leaves=None,\n",
       "              min_child_weight=None, missing=nan, monotone_constraints=None,\n",
       "              multi_strategy=None, n_estimators=None, n_jobs=None,\n",
       "              num_parallel_tree=None, random_state=None, ...)"
      ]
     },
     "execution_count": 16,
     "metadata": {},
     "output_type": "execute_result"
    }
   ],
   "source": [
    "#Treinar o modelo\n",
    "\n",
    "xgb_classifier = xgb.XGBClassifier()\n",
    "xgb_classifier.fit(X_train, y_train)"
   ]
  },
  {
   "cell_type": "code",
   "execution_count": 17,
   "id": "52149cba",
   "metadata": {
    "execution": {
     "iopub.execute_input": "2024-08-30T20:19:03.509217Z",
     "iopub.status.busy": "2024-08-30T20:19:03.508742Z",
     "iopub.status.idle": "2024-08-30T20:19:03.586552Z",
     "shell.execute_reply": "2024-08-30T20:19:03.585460Z"
    },
    "papermill": {
     "duration": 0.092327,
     "end_time": "2024-08-30T20:19:03.589435",
     "exception": false,
     "start_time": "2024-08-30T20:19:03.497108",
     "status": "completed"
    },
    "tags": []
   },
   "outputs": [],
   "source": [
    "#Prevendo o modelo\n",
    "y_pred = xgb_classifier.predict(X_test)"
   ]
  },
  {
   "cell_type": "code",
   "execution_count": 18,
   "id": "64a964ad",
   "metadata": {
    "execution": {
     "iopub.execute_input": "2024-08-30T20:19:03.613000Z",
     "iopub.status.busy": "2024-08-30T20:19:03.612517Z",
     "iopub.status.idle": "2024-08-30T20:19:03.620314Z",
     "shell.execute_reply": "2024-08-30T20:19:03.619210Z"
    },
    "papermill": {
     "duration": 0.021937,
     "end_time": "2024-08-30T20:19:03.622969",
     "exception": false,
     "start_time": "2024-08-30T20:19:03.601032",
     "status": "completed"
    },
    "tags": []
   },
   "outputs": [
    {
     "data": {
      "text/plain": [
       "array([0, 0, 1, ..., 0, 0, 0])"
      ]
     },
     "execution_count": 18,
     "metadata": {},
     "output_type": "execute_result"
    }
   ],
   "source": [
    "y_pred"
   ]
  },
  {
   "cell_type": "code",
   "execution_count": 19,
   "id": "dfab9bf4",
   "metadata": {
    "execution": {
     "iopub.execute_input": "2024-08-30T20:19:03.645232Z",
     "iopub.status.busy": "2024-08-30T20:19:03.644793Z",
     "iopub.status.idle": "2024-08-30T20:19:03.654169Z",
     "shell.execute_reply": "2024-08-30T20:19:03.652980Z"
    },
    "papermill": {
     "duration": 0.023798,
     "end_time": "2024-08-30T20:19:03.656912",
     "exception": false,
     "start_time": "2024-08-30T20:19:03.633114",
     "status": "completed"
    },
    "tags": []
   },
   "outputs": [
    {
     "data": {
      "text/plain": [
       "75721    0\n",
       "80184    0\n",
       "19864    1\n",
       "76699    0\n",
       "92991    0\n",
       "        ..\n",
       "32595    0\n",
       "29313    0\n",
       "37862    0\n",
       "53421    0\n",
       "42410    0\n",
       "Name: diabetes, Length: 20000, dtype: int64"
      ]
     },
     "execution_count": 19,
     "metadata": {},
     "output_type": "execute_result"
    }
   ],
   "source": [
    "y_test"
   ]
  },
  {
   "cell_type": "code",
   "execution_count": 20,
   "id": "3a679c63",
   "metadata": {
    "execution": {
     "iopub.execute_input": "2024-08-30T20:19:03.679861Z",
     "iopub.status.busy": "2024-08-30T20:19:03.679320Z",
     "iopub.status.idle": "2024-08-30T20:19:03.688060Z",
     "shell.execute_reply": "2024-08-30T20:19:03.686892Z"
    },
    "papermill": {
     "duration": 0.023571,
     "end_time": "2024-08-30T20:19:03.690723",
     "exception": false,
     "start_time": "2024-08-30T20:19:03.667152",
     "status": "completed"
    },
    "tags": []
   },
   "outputs": [],
   "source": [
    "#Acurácia\n",
    "\n",
    "from sklearn.metrics import accuracy_score\n",
    "\n",
    "accuracy = accuracy_score(y_test, y_pred)"
   ]
  },
  {
   "cell_type": "code",
   "execution_count": 21,
   "id": "3ecf73e4",
   "metadata": {
    "execution": {
     "iopub.execute_input": "2024-08-30T20:19:03.713999Z",
     "iopub.status.busy": "2024-08-30T20:19:03.713514Z",
     "iopub.status.idle": "2024-08-30T20:19:03.721019Z",
     "shell.execute_reply": "2024-08-30T20:19:03.719930Z"
    },
    "papermill": {
     "duration": 0.022332,
     "end_time": "2024-08-30T20:19:03.723336",
     "exception": false,
     "start_time": "2024-08-30T20:19:03.701004",
     "status": "completed"
    },
    "tags": []
   },
   "outputs": [
    {
     "data": {
      "text/plain": [
       "0.9711"
      ]
     },
     "execution_count": 21,
     "metadata": {},
     "output_type": "execute_result"
    }
   ],
   "source": [
    "accuracy"
   ]
  },
  {
   "cell_type": "code",
   "execution_count": 22,
   "id": "6b346414",
   "metadata": {
    "execution": {
     "iopub.execute_input": "2024-08-30T20:19:03.746105Z",
     "iopub.status.busy": "2024-08-30T20:19:03.745641Z",
     "iopub.status.idle": "2024-08-30T20:19:04.620606Z",
     "shell.execute_reply": "2024-08-30T20:19:04.619382Z"
    },
    "papermill": {
     "duration": 0.889794,
     "end_time": "2024-08-30T20:19:04.623551",
     "exception": false,
     "start_time": "2024-08-30T20:19:03.733757",
     "status": "completed"
    },
    "tags": []
   },
   "outputs": [
    {
     "data": {
      "image/png": "[encoded data removed]",
      "text/plain": [
       "<Figure size 800x600 with 2 Axes>"
      ]
     },
     "metadata": {},
     "output_type": "display_data"
    }
   ],
   "source": [
    "#Matriz de confusão.\n",
    "\n",
    "from sklearn.metrics import confusion_matrix\n",
    "import seaborn as sns\n",
    "import matplotlib.pyplot as plt\n",
    "\n",
    "# Criar a matriz de confusão\n",
    "cm = confusion_matrix(y_test, y_pred)\n",
    "\n",
    "# Visualizar a matriz de confusão\n",
    "plt.figure(figsize=(8, 6))\n",
    "sns.heatmap(cm, annot=True, fmt='d', cmap='Blues')\n",
    "plt.title('Matriz de Confusão para Diabetes')\n",
    "plt.ylabel('Valor Real')\n",
    "plt.xlabel('Valor Previsto')\n",
    "plt.show()"
   ]
  }
 ],
 "metadata": {
  "kaggle": {
   "accelerator": "none",
   "dataSources": [
    {
     "datasetId": 5420190,
     "sourceId": 8998172,
     "sourceType": "datasetVersion"
    }
   ],
   "dockerImageVersionId": 30761,
   "isGpuEnabled": false,
   "isInternetEnabled": true,
   "language": "python",
   "sourceType": "notebook"
  },
  "kernelspec": {
   "display_name": "Python 3",
   "language": "python",
   "name": "python3"
  },
  "language_info": {
   "codemirror_mode": {
    "name": "ipython",
    "version": 3
   },
   "file_extension": ".py",
   "mimetype": "text/x-python",
   "name": "python",
   "nbconvert_exporter": "python",
   "pygments_lexer": "ipython3",
   "version": "3.10.14"
  },
  "papermill": {
   "default_parameters": {},
   "duration": 9.117783,
   "end_time": "2024-08-30T20:19:05.359880",
   "environment_variables": {},
   "exception": null,
   "input_path": "__notebook__.ipynb",
   "output_path": "__notebook__.ipynb",
   "parameters": {},
   "start_time": "2024-08-30T20:18:56.242097",
   "version": "2.6.0"
  }
 },
 "nbformat": 4,
 "nbformat_minor": 5
}
